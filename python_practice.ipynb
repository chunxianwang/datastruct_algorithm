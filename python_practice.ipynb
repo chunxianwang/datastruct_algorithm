{
 "nbformat": 4,
 "nbformat_minor": 2,
 "metadata": {
  "language_info": {
   "name": "python",
   "codemirror_mode": {
    "name": "ipython",
    "version": 3
   },
   "version": "3.7.3-final"
  },
  "orig_nbformat": 2,
  "file_extension": ".py",
  "mimetype": "text/x-python",
  "name": "python",
  "npconvert_exporter": "python",
  "pygments_lexer": "ipython3",
  "version": 3,
  "kernelspec": {
   "name": "python37364bit7d2a432624c84006b15ba0be5a42d7af",
   "display_name": "Python 3.7.3 64-bit"
  }
 },
 "cells": [
  {
   "cell_type": "markdown",
   "metadata": {},
   "source": [
    "1-题目：有四个数字：1、2、3、4，能组成多少个互不相同且无重复数字的三位数？各是多少？\n",
    "\n",
    "程序分析：可填在百位、十位、个位的数字都是1、2、3、4。组成所有的排列后再去 掉不满足条件的排列。"
   ]
  },
  {
   "cell_type": "code",
   "execution_count": 2,
   "metadata": {},
   "outputs": [
    {
     "output_type": "stream",
     "name": "stdout",
     "text": "1 2 3\n1 2 4\n1 3 2\n1 3 4\n1 4 2\n1 4 3\n2 1 3\n2 1 4\n2 3 1\n2 3 4\n2 4 1\n2 4 3\n3 1 2\n3 1 4\n3 2 1\n3 2 4\n3 4 1\n3 4 2\n4 1 2\n4 1 3\n4 2 1\n4 2 3\n4 3 1\n4 3 2\n"
    }
   ],
   "source": [
    "for i in range(1,5):\n",
    "        for j in range(1,5):\n",
    "            for k in range(1,5):\n",
    "                if(i!=j) and (j!=k) and (i!=k):\n",
    "                    print (i,j,k)"
   ]
  },
  {
   "cell_type": "markdown",
   "metadata": {},
   "source": [
    "2-题目：企业发放的奖金根据利润提成。利润(I)低于或等于10万元时，奖金可提10%；利润高于10万元，低于20万元时，低于10万元的部分按10%提成，高于10万元的部分，可提成7.5%；20万到40万之间时，高于20万元的部分，可提成5%；40万到60万之间时高于40万元的部分，可提成3%；60万到100万之间时，高于60万元的部分，可提成1.5%，高于100万元时，超过100万元的部分按1%提成，从键盘输入当月利润I，求应发放奖金总数？\n",
    "\n",
    "程序分析：请利用数轴来分界，定位。"
   ]
  },
  {
   "cell_type": "code",
   "execution_count": 8,
   "metadata": {},
   "outputs": [
    {
     "output_type": "stream",
     "name": "stdout",
     "text": "2250.0\n6000.0\n10000.0\n7500.0\n10000.0\n35750.0\n"
    }
   ],
   "source": [
    "i = 750000   #输入净利润\n",
    "arr = [1000000, 600000, 400000, 200000, 100000, 0]\n",
    "rat = [0.01, 0.015, 0.03, 0.05, 0.075, 0.1]\n",
    "r = 0\n",
    "for idx in range(0,6):\n",
    "    if i>arr[idx]:\n",
    "        r+=(i-arr[idx])*rat[idx]\n",
    "        print((i-arr[idx])*rat[idx])\n",
    "        i = arr[idx]\n",
    "print (r)"
   ]
  },
  {
   "cell_type": "code",
   "execution_count": 1,
   "metadata": {},
   "outputs": [
    {
     "output_type": "stream",
     "name": "stdout",
     "text": "-99.0\n21.0\n261.0\n1581.0\n"
    }
   ],
   "source": [
    "for i in range(1,85):\n",
    "        if 168%i == 0:\n",
    "            j = 168/i\n",
    "            if i>j and (i+j)%2==0 and (i-j)%2==0:\n",
    "                m = (i+j)/2\n",
    "                n = (i-j)/2\n",
    "                x = n*n - 100\n",
    "                print (x)"
   ]
  },
  {
   "cell_type": "code",
   "execution_count": null,
   "metadata": {},
   "outputs": [],
   "source": []
  }
 ]
}